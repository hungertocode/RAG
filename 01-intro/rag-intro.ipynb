{
 "cells": [
  {
   "cell_type": "code",
   "execution_count": 56,
   "id": "3f67b4aa-cac8-4a47-bc01-2f94f52616d4",
   "metadata": {},
   "outputs": [],
   "source": [
    "import minsearch\n",
    "import os\n",
    "from dotenv import load_dotenv\n",
    "import google.generativeai as genai\n",
    "\n",
    "# Load environment variables from .env\n",
    "load_dotenv()\n",
    "\n",
    "api_key = os.getenv(\"GOOGLE_GEMINI_API_KEY\")\n",
    "genai.configure(api_key=api_key)\n",
    "model = genai.GenerativeModel(\"gemini-1.5-flash\")\n",
    "\n"
   ]
  },
  {
   "cell_type": "code",
   "execution_count": 57,
   "id": "b5c153a3-3e7c-440d-8355-14288d774577",
   "metadata": {},
   "outputs": [],
   "source": [
    "import json\n",
    "with open('documents.json') as obj:\n",
    "    raw_doc=json.load(obj)"
   ]
  },
  {
   "cell_type": "code",
   "execution_count": 58,
   "id": "df7ed6ff-da7b-4e47-993d-445532677496",
   "metadata": {},
   "outputs": [],
   "source": [
    "documents=[];\n",
    "for course_info in raw_doc: \n",
    "    for doc in course_info['documents']:\n",
    "        doc['course']=course_info['course']\n",
    "        documents.append(doc);"
   ]
  },
  {
   "cell_type": "code",
   "execution_count": 59,
   "id": "e3ea8045-fe43-4adb-b681-76c9d927fe03",
   "metadata": {
    "scrolled": true
   },
   "outputs": [],
   "source": [
    "index=minsearch.Index(text_fields=['question','text','section'],keyword_fields=['course'])\n"
   ]
  },
  {
   "cell_type": "code",
   "execution_count": 60,
   "id": "6970a027-1917-408f-80a1-0aca4a58a9e2",
   "metadata": {},
   "outputs": [
    {
     "data": {
      "text/plain": [
       "<minsearch.Index at 0x231f666e990>"
      ]
     },
     "execution_count": 60,
     "metadata": {},
     "output_type": "execute_result"
    }
   ],
   "source": [
    "index.fit(documents)"
   ]
  },
  {
   "cell_type": "code",
   "execution_count": 66,
   "id": "c7aa6eb3-b865-4780-b0ee-0cdf7011bc46",
   "metadata": {},
   "outputs": [],
   "source": [
    "def search(query):\n",
    "    boost={'question':3, 'section':0.4}\n",
    "    results =index.search(\n",
    "        query=query,\n",
    "        filter_dict={'course':'data-engineering-zoomcamp'},\n",
    "        boost_dict=boost,\n",
    "        num_results=5\n",
    "    )\n",
    "    return results\n"
   ]
  },
  {
   "cell_type": "code",
   "execution_count": 72,
   "id": "1d27d9b5-7f9a-4d7d-9690-723d5f4f397e",
   "metadata": {},
   "outputs": [],
   "source": [
    "\n",
    "def llm(prompt):\n",
    "    response = model.generate_content(prompt)\n",
    "    return response.text;"
   ]
  },
  {
   "cell_type": "code",
   "execution_count": 63,
   "id": "d1368b3c-8caf-468d-845b-74dcc36b0bbf",
   "metadata": {},
   "outputs": [],
   "source": [
    "\n",
    "\n",
    "def build_prompt(query,search_results): \n",
    "\n",
    "    prompt_template=\"\"\"  \n",
    "    You are an course instructor assistant. Please read the question and give answer based on the context given. If no answer matched then say something like No answer found\n",
    "    Also add a bit more details while answering the question.\n",
    "    QUSETION: {question}\n",
    "    CONTEXT:{context} \n",
    "    \"\"\".strip()\n",
    "    \n",
    "    context=\"\" \n",
    "    \n",
    "    for info in search_results:\n",
    "        context=context+ f\"section: {info['section']}\\n question: {info['question']}\\n answer: {info['text']}\\n\\n\"; \n",
    "    \n",
    "    final_prompt=prompt_template.format(question=query,context=context).strip()\n",
    "    return final_prompt;\n"
   ]
  },
  {
   "cell_type": "code",
   "execution_count": 71,
   "id": "bb6a46fe-177a-4276-8f2c-ebb7f08ae635",
   "metadata": {},
   "outputs": [],
   "source": [
    "def rag(query): \n",
    "    retrive_data=search(query)\n",
    "    prompt_with_context=build_prompt(query,retrive_data)\n",
    "    # return prompt_with_context\n",
    "    response=llm(prompt_with_context)\n",
    "    return response;"
   ]
  },
  {
   "cell_type": "code",
   "execution_count": 73,
   "id": "98cdc567-962d-4307-aac0-e12b28b8c095",
   "metadata": {
    "scrolled": true
   },
   "outputs": [
    {
     "data": {
      "text/plain": [
       "\"Yes, you can still join the course even after the start date.  The provided text explicitly states that even if you don't register before the start date (January 15th, 2024, at 5 PM), you are still eligible to submit homework assignments.\\n\\nHowever, it's crucial to be aware of the deadlines for final projects to avoid last-minute stress.  While you can participate and submit homework,  procrastination on the final project is strongly discouraged.\\n\""
      ]
     },
     "execution_count": 73,
     "metadata": {},
     "output_type": "execute_result"
    }
   ],
   "source": [
    "rag(\"Can I still join the course?\")"
   ]
  },
  {
   "cell_type": "code",
   "execution_count": null,
   "id": "a50110f9-20bb-4787-83e2-75c34be87011",
   "metadata": {},
   "outputs": [],
   "source": []
  }
 ],
 "metadata": {
  "kernelspec": {
   "display_name": "Python 3 (ipykernel)",
   "language": "python",
   "name": "python3"
  },
  "language_info": {
   "codemirror_mode": {
    "name": "ipython",
    "version": 3
   },
   "file_extension": ".py",
   "mimetype": "text/x-python",
   "name": "python",
   "nbconvert_exporter": "python",
   "pygments_lexer": "ipython3",
   "version": "3.13.4"
  }
 },
 "nbformat": 4,
 "nbformat_minor": 5
}
