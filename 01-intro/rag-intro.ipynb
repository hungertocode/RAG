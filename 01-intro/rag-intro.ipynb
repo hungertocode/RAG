{
 "cells": [
  {
   "cell_type": "code",
   "execution_count": 1,
   "id": "3f67b4aa-cac8-4a47-bc01-2f94f52616d4",
   "metadata": {},
   "outputs": [],
   "source": [
    "import minsearch\n",
    "import os\n",
    "from dotenv import load_dotenv\n",
    "import google.generativeai as genai\n",
    "\n",
    "# Load environment variables from .env\n",
    "load_dotenv()\n",
    "\n",
    "api_key = os.getenv(\"GOOGLE_GEMINI_API_KEY\")\n",
    "genai.configure(api_key=api_key)\n",
    "model = genai.GenerativeModel(\"gemini-1.5-flash\")\n",
    "\n"
   ]
  },
  {
   "cell_type": "code",
   "execution_count": 2,
   "id": "b5c153a3-3e7c-440d-8355-14288d774577",
   "metadata": {},
   "outputs": [],
   "source": [
    "import json\n",
    "with open('documents.json') as obj:\n",
    "    raw_doc=json.load(obj)"
   ]
  },
  {
   "cell_type": "code",
   "execution_count": 3,
   "id": "df7ed6ff-da7b-4e47-993d-445532677496",
   "metadata": {},
   "outputs": [],
   "source": [
    "documents=[];\n",
    "for course_info in raw_doc: \n",
    "    for doc in course_info['documents']:\n",
    "        doc['course']=course_info['course']\n",
    "        documents.append(doc);"
   ]
  },
  {
   "cell_type": "code",
   "execution_count": 4,
   "id": "e3ea8045-fe43-4adb-b681-76c9d927fe03",
   "metadata": {
    "scrolled": true
   },
   "outputs": [],
   "source": [
    "index=minsearch.Index(text_fields=['question','text','section'],keyword_fields=['course'])\n"
   ]
  },
  {
   "cell_type": "code",
   "execution_count": 5,
   "id": "6970a027-1917-408f-80a1-0aca4a58a9e2",
   "metadata": {},
   "outputs": [
    {
     "data": {
      "text/plain": [
       "<minsearch.Index at 0x1cdb84382f0>"
      ]
     },
     "execution_count": 5,
     "metadata": {},
     "output_type": "execute_result"
    }
   ],
   "source": [
    "index.fit(documents)"
   ]
  },
  {
   "cell_type": "code",
   "execution_count": 6,
   "id": "c7aa6eb3-b865-4780-b0ee-0cdf7011bc46",
   "metadata": {},
   "outputs": [],
   "source": [
    "def search(query):\n",
    "    boost={'question':3, 'section':0.4}\n",
    "    results =index.search(\n",
    "        query=query,\n",
    "        filter_dict={'course':'data-engineering-zoomcamp'},\n",
    "        boost_dict=boost,\n",
    "        num_results=5\n",
    "    )\n",
    "    return results\n"
   ]
  },
  {
   "cell_type": "code",
   "execution_count": 7,
   "id": "1d27d9b5-7f9a-4d7d-9690-723d5f4f397e",
   "metadata": {},
   "outputs": [],
   "source": [
    "def llm(prompt):\n",
    "    response = model.generate_content(prompt)\n",
    "    return response.text;"
   ]
  },
  {
   "cell_type": "code",
   "execution_count": 8,
   "id": "d1368b3c-8caf-468d-845b-74dcc36b0bbf",
   "metadata": {
    "jupyter": {
     "source_hidden": true
    }
   },
   "outputs": [],
   "source": [
    "def build_prompt(query,search_results): \n",
    "\n",
    "    prompt_template = \"\"\"\n",
    "    You're a course teaching assistant. Answer the QUESTION based on the CONTEXT from the FAQ database.\n",
    "    Use only the facts from the CONTEXT when answering the QUESTION.\n",
    "    \n",
    "    QUESTION: {question}\n",
    "    \n",
    "    CONTEXT: \n",
    "    {context}\n",
    "    \"\"\".strip()\n",
    "    \n",
    "    context=\"\" \n",
    "    \n",
    "    for info in search_results:\n",
    "        context=context+ f\"section: {info['section']}\\n question: {info['question']}\\n answer: {info['text']}\\n\\n\"; \n",
    "    \n",
    "    final_prompt=prompt_template.format(question=query,context=context).strip()\n",
    "    return final_prompt;\n"
   ]
  },
  {
   "cell_type": "code",
   "execution_count": 9,
   "id": "bb6a46fe-177a-4276-8f2c-ebb7f08ae635",
   "metadata": {},
   "outputs": [],
   "source": [
    "def rag(query): \n",
    "    retrive_data=search(query)\n",
    "    prompt_with_context=build_prompt(query,retrive_data)\n",
    "    # return prompt_with_context\n",
    "    response=llm(prompt_with_context)\n",
    "    return response;"
   ]
  },
  {
   "cell_type": "code",
   "execution_count": 10,
   "id": "98cdc567-962d-4307-aac0-e12b28b8c095",
   "metadata": {
    "jupyter": {
     "source_hidden": true
    },
    "scrolled": true
   },
   "outputs": [
    {
     "data": {
      "text/plain": [
       "\"Yes, you can still join the course even if you don't register before the start date.  However, be aware of deadlines for final projects.\\n\""
      ]
     },
     "execution_count": 10,
     "metadata": {},
     "output_type": "execute_result"
    }
   ],
   "source": [
    "rag(\"Can I still join the course?\")"
   ]
  },
  {
   "cell_type": "code",
   "execution_count": null,
   "id": "11215e80-aaa9-4f96-b2ad-09e979ddadec",
   "metadata": {},
   "outputs": [],
   "source": [
    "from elasticsearch import Elasticsearch\n",
    "es_client = Elasticsearch(\n",
    "    \"http://localhost:9200\")\n",
    "index_settings = {\n",
    "    \"settings\": {\n",
    "        \"number_of_shards\": 1,\n",
    "        \"number_of_replicas\": 0\n",
    "    },\n",
    "    \"mappings\": {\n",
    "        \"properties\": {\n",
    "            \"text\": {\"type\": \"text\"},\n",
    "            \"section\": {\"type\": \"text\"},\n",
    "            \"question\": {\"type\": \"text\"},\n",
    "            \"course\": {\"type\": \"keyword\"} \n",
    "        }\n",
    "    }\n",
    "}\n",
    "\n",
    "index_name=\"faq-document\"\n",
    "es_client.indices.create(index=index_name, body=index_settings)\n"
   ]
  },
  {
   "cell_type": "code",
   "execution_count": null,
   "id": "638ed509-ed08-43df-8748-82fda46f9dc2",
   "metadata": {
    "scrolled": true
   },
   "outputs": [],
   "source": [
    "from tqdm.auto import tqdm \n",
    "\n",
    "for doc in tqdm(documents):\n",
    "    es_client.index(index=index_name,document=doc)"
   ]
  },
  {
   "cell_type": "code",
   "execution_count": 15,
   "id": "36c357df-a496-401f-9361-e9b44e474fcf",
   "metadata": {},
   "outputs": [],
   "source": [
    "def elastic_search(query):\n",
    "    search_query = {\n",
    "        \"size\": 3,\n",
    "        \"query\": {\n",
    "            \"bool\": {\n",
    "                \"must\": {\n",
    "                    \"multi_match\": {\n",
    "                        \"query\": query,\n",
    "                        \"fields\": [\"question^4\", \"text\"],\n",
    "                        \"type\": \"best_fields\"\n",
    "                    }\n",
    "                },\n",
    "                \"filter\": {\n",
    "                    \"term\": {\n",
    "                        \"course\": \"machine-learning-zoomcamp\"\n",
    "                    }\n",
    "                }\n",
    "            }\n",
    "        }\n",
    "    }\n",
    "\n",
    "    response = es_client.search(index=index_name, body=search_query)\n",
    "    \n",
    "    # print(\"Raw hits:\", response['hits'])  # Debugging\n",
    "    \n",
    "    result_docs = []\n",
    "    for hit in response[\"hits\"][\"hits\"]:\n",
    "        result_docs.append(hit[\"_source\"])\n",
    "    \n",
    "    return result_docs\n"
   ]
  },
  {
   "cell_type": "code",
   "execution_count": null,
   "id": "8f2856db-5de8-47c7-80a3-9d6af9efa5c1",
   "metadata": {
    "scrolled": true
   },
   "outputs": [],
   "source": [
    "results = elastic_search(\"How do copy a file to a Docker container?\")\n",
    "context_template = ''\n",
    "\n",
    "for data in results:\n",
    "    context_template += f\"Q: {data['question']}\\nA: {data['text']}\\n\\n\"\n",
    "\n",
    "context_template = context_template.replace('\\t', '')\n",
    "\n",
    "prompt_template = \"\"\"\n",
    "You're a course teaching assistant. Answer the QUESTION based on the CONTEXT from the FAQ database.\n",
    "Use only the facts from the CONTEXT when answering the QUESTION.\n",
    "\n",
    "QUESTION: {question}\n",
    "\n",
    "CONTEXT:\n",
    "{context}\n",
    "\"\"\".strip()\n",
    "\n",
    "prompt = prompt_template.format(\n",
    "    question=\"How do I execute a command in a running docker container?\",\n",
    "    context=context_template.strip()\n",
    ")\n",
    "\n",
    "print(((prompt)))\n"
   ]
  },
  {
   "cell_type": "code",
   "execution_count": null,
   "id": "3dec39df-4fde-4104-83ec-5ec4e477cd68",
   "metadata": {
    "scrolled": true
   },
   "outputs": [],
   "source": [
    "elastic_search(\"How do copy a file to a Docker container?\")[2]"
   ]
  },
  {
   "cell_type": "code",
   "execution_count": 17,
   "id": "b69770c1-d370-472d-9a6a-5f277ee185d8",
   "metadata": {},
   "outputs": [],
   "source": [
    "import requests \n",
    "\n",
    "docs_url = 'https://github.com/DataTalksClub/llm-zoomcamp/blob/main/01-intro/documents.json?raw=1'\n",
    "docs_response = requests.get(docs_url)\n",
    "documents_raw = docs_response.json()\n",
    "\n",
    "test_documents = []\n",
    "\n",
    "for course in documents_raw:\n",
    "    course_name = course['course']\n",
    "\n",
    "    for doc in course['documents']:\n",
    "        doc['course'] = course_name\n",
    "        test_documents.append(doc)"
   ]
  },
  {
   "cell_type": "code",
   "execution_count": 18,
   "id": "bc1f3232-876d-4e5a-b8ba-87c2da1f479d",
   "metadata": {
    "scrolled": true
   },
   "outputs": [
    {
     "data": {
      "text/plain": [
       "{'text': 'Problem description\\nThis is the step in the ci yml file definition:\\n- name: Run Unit Tests\\nworking-directory: \"sources\"\\nrun: ./tests/unit_tests/run.sh\\nWhen executing github ci action, error raises:\\n…/tests/unit_test/run.sh Permission error\\nError: Process completed with error code 126\\nSolution description\\nAdd execution  permission to the script and commit+push:\\ngit update-index --chmod=+x .\\\\sources\\\\tests\\\\unit_tests\\\\run.sh\\nAdded by MarcosMJD',\n",
       " 'section': 'Module 6: Best practices',\n",
       " 'question': 'Github actions: Permission denied error when executing script file',\n",
       " 'course': 'mlops-zoomcamp'}"
      ]
     },
     "execution_count": 18,
     "metadata": {},
     "output_type": "execute_result"
    }
   ],
   "source": [
    "test_documents[943]"
   ]
  },
  {
   "cell_type": "code",
   "execution_count": 19,
   "id": "e312c2e6-344f-4646-851c-9a9e4172aaa5",
   "metadata": {},
   "outputs": [],
   "source": [
    "def rag(query):\n",
    "    search_results = elastic_search(query)\n",
    "    prompt = build_prompt(query, search_results)\n",
    "    answer = llm(prompt)\n",
    "    return answer"
   ]
  },
  {
   "cell_type": "code",
   "execution_count": null,
   "id": "f7de5d10-dbcb-4511-9b27-ae6589fee368",
   "metadata": {},
   "outputs": [],
   "source": [
    "rag(\"How would I join the course\")"
   ]
  },
  {
   "cell_type": "code",
   "execution_count": null,
   "id": "4d252c25-a84b-454a-a7f8-78a9748a6a4e",
   "metadata": {},
   "outputs": [],
   "source": [
    "query = \"How do copy a file to a Docker container?\"\n",
    "\n",
    "def elastic_search(query):\n",
    "    \n",
    "    search_query = {\n",
    "        \"size\": 3,\n",
    "        \"query\": {\n",
    "            \"bool\": {\n",
    "                \"must\": {\n",
    "                    \"multi_match\": {\n",
    "                        \"query\": query,\n",
    "                        \"fields\": [\"question^4\", \"text\"],\n",
    "                        \"type\": \"best_fields\"\n",
    "                    }\n",
    "                },\n",
    "                \"filter\": {\n",
    "                    \"term\": {\n",
    "                        \"course\": \"machine-learning-zoomcamp\"\n",
    "                    }\n",
    "               }\n",
    "            }\n",
    "        }\n",
    "    }\n",
    "    # ctrl + / for commenting a block of code\n",
    "\n",
    "    response = es_client.search(index = index_name, body = search_query)\n",
    "\n",
    "    result_docs = []\n",
    "    \n",
    "    for hit in response['hits']['hits']:\n",
    "        result_docs.append(hit['_source'])\n",
    "\n",
    "    return result_docs\n",
    "\n",
    "elastic_search(query)\n",
    "\n",
    "# q5 - building a prompt\n",
    "def build_prompt(query, search_results):\n",
    "    prompt_template = \"\"\"\n",
    "    You're a course teaching assistant. Answer the QUESTION based on the CONTEXT from the FAQ database.\n",
    "    Use only the facts from the CONTEXT when answering the QUESTION.\n",
    "    \n",
    "    QUESTION: {question}\n",
    "    \n",
    "    CONTEXT:\n",
    "    {context}\n",
    "    \"\"\".strip()\n",
    "    #This part takes the 'results' from minsearch and formats them into a single string.\n",
    "    llmcontext = \"\"\n",
    "\n",
    "    for doc in search_results:\n",
    "        # llmcontext += f\"section: {doc['section']}\\n\"\n",
    "        llmcontext += f\"question: {doc['question']}\\n\"\n",
    "        llmcontext += f\"answer: {doc['text']}\\n\\n\"\n",
    "    \n",
    "    # Integrating the user's question 'q' and the 'context'\n",
    "    prompt = prompt_template.format(question = 'How do I execute a command in a running docker container?', context = llmcontext)\n",
    "\n",
    "    return prompt\n",
    "\n",
    "search_results = elastic_search(query)\n",
    "prompt_response = build_prompt(query, search_results)\n",
    "\n",
    "len(prompt_response)"
   ]
  },
  {
   "cell_type": "code",
   "execution_count": null,
   "id": "f874e8b2-2eaf-4f42-8256-82e9184edf95",
   "metadata": {},
   "outputs": [],
   "source": []
  },
  {
   "cell_type": "code",
   "execution_count": null,
   "id": "06ab1fee-edd5-45b6-955c-22d770622073",
   "metadata": {},
   "outputs": [],
   "source": []
  }
 ],
 "metadata": {
  "kernelspec": {
   "display_name": "Python 3 (ipykernel)",
   "language": "python",
   "name": "python3"
  },
  "language_info": {
   "codemirror_mode": {
    "name": "ipython",
    "version": 3
   },
   "file_extension": ".py",
   "mimetype": "text/x-python",
   "name": "python",
   "nbconvert_exporter": "python",
   "pygments_lexer": "ipython3",
   "version": "3.13.4"
  }
 },
 "nbformat": 4,
 "nbformat_minor": 5
}
