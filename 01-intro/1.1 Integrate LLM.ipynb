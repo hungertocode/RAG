{
 "cells": [
  {
   "cell_type": "code",
   "execution_count": 8,
   "id": "0d709d31-5700-4405-8438-ee1ea448a0ff",
   "metadata": {},
   "outputs": [
    {
     "name": "stdout",
     "output_type": "stream",
     "text": [
      "models/embedding-gecko-001 → ['embedText', 'countTextTokens']\n",
      "models/gemini-1.0-pro-vision-latest → ['generateContent', 'countTokens']\n",
      "models/gemini-pro-vision → ['generateContent', 'countTokens']\n",
      "models/gemini-1.5-pro-latest → ['generateContent', 'countTokens']\n",
      "models/gemini-1.5-pro-001 → ['generateContent', 'countTokens', 'createCachedContent']\n",
      "models/gemini-1.5-pro-002 → ['generateContent', 'countTokens', 'createCachedContent']\n",
      "models/gemini-1.5-pro → ['generateContent', 'countTokens']\n",
      "models/gemini-1.5-flash-latest → ['generateContent', 'countTokens']\n",
      "models/gemini-1.5-flash-001 → ['generateContent', 'countTokens', 'createCachedContent']\n",
      "models/gemini-1.5-flash-001-tuning → ['generateContent', 'countTokens', 'createTunedModel']\n",
      "models/gemini-1.5-flash → ['generateContent', 'countTokens']\n",
      "models/gemini-1.5-flash-002 → ['generateContent', 'countTokens', 'createCachedContent']\n",
      "models/gemini-1.5-flash-8b → ['createCachedContent', 'generateContent', 'countTokens']\n",
      "models/gemini-1.5-flash-8b-001 → ['createCachedContent', 'generateContent', 'countTokens']\n",
      "models/gemini-1.5-flash-8b-latest → ['createCachedContent', 'generateContent', 'countTokens']\n",
      "models/gemini-1.5-flash-8b-exp-0827 → ['generateContent', 'countTokens']\n",
      "models/gemini-1.5-flash-8b-exp-0924 → ['generateContent', 'countTokens']\n",
      "models/gemini-2.5-pro-exp-03-25 → ['generateContent', 'countTokens', 'createCachedContent', 'batchGenerateContent']\n",
      "models/gemini-2.5-pro-preview-03-25 → ['generateContent', 'countTokens', 'createCachedContent', 'batchGenerateContent']\n",
      "models/gemini-2.5-flash-preview-04-17 → ['generateContent', 'countTokens', 'createCachedContent', 'batchGenerateContent']\n",
      "models/gemini-2.5-flash-preview-05-20 → ['generateContent', 'countTokens', 'createCachedContent', 'batchGenerateContent']\n",
      "models/gemini-2.5-flash-preview-04-17-thinking → ['generateContent', 'countTokens', 'createCachedContent', 'batchGenerateContent']\n",
      "models/gemini-2.5-pro-preview-05-06 → ['generateContent', 'countTokens', 'createCachedContent', 'batchGenerateContent']\n",
      "models/gemini-2.5-pro-preview-06-05 → ['generateContent', 'countTokens', 'createCachedContent', 'batchGenerateContent']\n",
      "models/gemini-2.0-flash-exp → ['generateContent', 'countTokens', 'bidiGenerateContent']\n",
      "models/gemini-2.0-flash → ['generateContent', 'countTokens', 'createCachedContent', 'batchGenerateContent']\n",
      "models/gemini-2.0-flash-001 → ['generateContent', 'countTokens', 'createCachedContent', 'batchGenerateContent']\n",
      "models/gemini-2.0-flash-exp-image-generation → ['generateContent', 'countTokens', 'bidiGenerateContent']\n",
      "models/gemini-2.0-flash-lite-001 → ['generateContent', 'countTokens', 'createCachedContent', 'batchGenerateContent']\n",
      "models/gemini-2.0-flash-lite → ['generateContent', 'countTokens', 'createCachedContent', 'batchGenerateContent']\n",
      "models/gemini-2.0-flash-preview-image-generation → ['generateContent', 'countTokens']\n",
      "models/gemini-2.0-flash-lite-preview-02-05 → ['generateContent', 'countTokens', 'createCachedContent', 'batchGenerateContent']\n",
      "models/gemini-2.0-flash-lite-preview → ['generateContent', 'countTokens', 'createCachedContent', 'batchGenerateContent']\n",
      "models/gemini-2.0-pro-exp → ['generateContent', 'countTokens', 'createCachedContent', 'batchGenerateContent']\n",
      "models/gemini-2.0-pro-exp-02-05 → ['generateContent', 'countTokens', 'createCachedContent', 'batchGenerateContent']\n",
      "models/gemini-exp-1206 → ['generateContent', 'countTokens', 'createCachedContent', 'batchGenerateContent']\n",
      "models/gemini-2.0-flash-thinking-exp-01-21 → ['generateContent', 'countTokens', 'createCachedContent', 'batchGenerateContent']\n",
      "models/gemini-2.0-flash-thinking-exp → ['generateContent', 'countTokens', 'createCachedContent', 'batchGenerateContent']\n",
      "models/gemini-2.0-flash-thinking-exp-1219 → ['generateContent', 'countTokens', 'createCachedContent', 'batchGenerateContent']\n",
      "models/gemini-2.5-flash-preview-tts → ['countTokens', 'generateContent']\n",
      "models/gemini-2.5-pro-preview-tts → ['countTokens', 'generateContent']\n",
      "models/learnlm-2.0-flash-experimental → ['generateContent', 'countTokens']\n",
      "models/gemma-3-1b-it → ['generateContent', 'countTokens']\n",
      "models/gemma-3-4b-it → ['generateContent', 'countTokens']\n",
      "models/gemma-3-12b-it → ['generateContent', 'countTokens']\n",
      "models/gemma-3-27b-it → ['generateContent', 'countTokens']\n",
      "models/gemma-3n-e4b-it → ['generateContent', 'countTokens']\n",
      "models/embedding-001 → ['embedContent']\n",
      "models/text-embedding-004 → ['embedContent']\n",
      "models/gemini-embedding-exp-03-07 → ['embedContent', 'countTextTokens']\n",
      "models/gemini-embedding-exp → ['embedContent', 'countTextTokens']\n",
      "models/aqa → ['generateAnswer']\n",
      "models/imagen-3.0-generate-002 → ['predict']\n",
      "models/veo-2.0-generate-001 → ['predictLongRunning']\n",
      "models/gemini-2.5-flash-preview-native-audio-dialog → ['countTokens', 'bidiGenerateContent']\n",
      "models/gemini-2.5-flash-preview-native-audio-dialog-rai-v3 → ['countTokens', 'bidiGenerateContent']\n",
      "models/gemini-2.5-flash-exp-native-audio-thinking-dialog → ['countTokens', 'bidiGenerateContent']\n",
      "models/gemini-2.0-flash-live-001 → ['bidiGenerateContent', 'countTokens']\n"
     ]
    }
   ],
   "source": [
    "import os\n",
    "from dotenv import load_dotenv\n",
    "import google.generativeai as genai\n",
    "\n",
    "# Load environment variables from .env\n",
    "load_dotenv()\n",
    "\n",
    "api_key = os.getenv(\"GOOGLE_GEMINI_API_KEY\")\n",
    "genai.configure(api_key=api_key)\n",
    "\n",
    "for m in genai.list_models():\n",
    "    print(m.name, \"→\", m.supported_generation_methods)\n",
    "\n"
   ]
  },
  {
   "cell_type": "code",
   "execution_count": 9,
   "id": "9e5e8998-062f-454f-96ae-b900dc84b3ce",
   "metadata": {},
   "outputs": [
    {
     "name": "stdout",
     "output_type": "stream",
     "text": [
      "I am doing well, thank you for asking!  As a large language model, I don't experience emotions or feelings in the same way humans do, but I'm functioning optimally and ready to assist you. How can I help you today?\n",
      "\n"
     ]
    }
   ],
   "source": [
    "# Create a Gemini model (you can also try gemini-1.5-pro if available)\n",
    "model = genai.GenerativeModel(\"gemini-1.5-flash\")\n",
    "\n",
    "# Ask a question\n",
    "response = model.generate_content(\"How are you?\")\n",
    "\n",
    "# Print the response\n",
    "print(response.text)"
   ]
  },
  {
   "cell_type": "code",
   "execution_count": null,
   "id": "8dff330e-43ee-4ce3-8ee8-8581f53c2890",
   "metadata": {},
   "outputs": [],
   "source": []
  }
 ],
 "metadata": {
  "kernelspec": {
   "display_name": "Python 3 (ipykernel)",
   "language": "python",
   "name": "python3"
  },
  "language_info": {
   "codemirror_mode": {
    "name": "ipython",
    "version": 3
   },
   "file_extension": ".py",
   "mimetype": "text/x-python",
   "name": "python",
   "nbconvert_exporter": "python",
   "pygments_lexer": "ipython3",
   "version": "3.13.4"
  }
 },
 "nbformat": 4,
 "nbformat_minor": 5
}
